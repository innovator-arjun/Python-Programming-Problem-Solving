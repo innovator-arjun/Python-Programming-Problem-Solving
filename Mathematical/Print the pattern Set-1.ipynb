{
 "cells": [
  {
   "cell_type": "code",
   "execution_count": 4,
   "metadata": {
    "collapsed": true
   },
   "outputs": [],
   "source": [
    "user_input=2\n"
   ]
  },
  {
   "cell_type": "code",
   "execution_count": null,
   "metadata": {
    "collapsed": false
   },
   "outputs": [],
   "source": [
    "def printPat(n):\n",
    "    counter=1\n",
    "    store=n\n",
    "    sb='' #To append the result and return\n",
    "    for i in range(n,0,-1):# Reverse for loop - n times\n",
    "        temp=i\n",
    "        i=i+1\n",
    "\n",
    "        for j in range(temp*n,0,-1): # for loop runs (n-i)*times\n",
    "            sb+=str(store)+' '\n",
    "#             print(store,end='')\n",
    "            if counter==(i-1): #To print accordingly\n",
    "                store-=1\n",
    "                counter=0\n",
    "\n",
    "            counter+=1\n",
    "\n",
    "        store=n\n",
    "        sb+='$'\n",
    "    return sb\n",
    "    "
   ]
  },
  {
   "cell_type": "code",
   "execution_count": null,
   "metadata": {
    "collapsed": false
   },
   "outputs": [],
   "source": [
    "iteration=int(input())\n",
    "for l in range(iteration):\n",
    "    inp=int(input())\n",
    "    print(printPat(inp))"
   ]
  },
  {
   "cell_type": "code",
   "execution_count": 104,
   "metadata": {
    "collapsed": true
   },
   "outputs": [],
   "source": [
    "#https://practice.geeksforgeeks.org/problems/print-the-pattern-set-1/1"
   ]
  },
  {
   "cell_type": "code",
   "execution_count": null,
   "metadata": {
    "collapsed": true
   },
   "outputs": [],
   "source": []
  }
 ],
 "metadata": {
  "kernelspec": {
   "display_name": "Python [Anaconda3]",
   "language": "python",
   "name": "Python [Anaconda3]"
  },
  "language_info": {
   "codemirror_mode": {
    "name": "ipython",
    "version": 3
   },
   "file_extension": ".py",
   "mimetype": "text/x-python",
   "name": "python",
   "nbconvert_exporter": "python",
   "pygments_lexer": "ipython3",
   "version": "3.5.2"
  }
 },
 "nbformat": 4,
 "nbformat_minor": 0
}
