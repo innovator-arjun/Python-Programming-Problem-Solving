{
 "cells": [
  {
   "cell_type": "code",
   "execution_count": null,
   "metadata": {
    "collapsed": true
   },
   "outputs": [],
   "source": []
  },
  {
   "cell_type": "code",
   "execution_count": 1,
   "metadata": {
    "collapsed": false
   },
   "outputs": [],
   "source": [
    "def sum_palindrome(n):\n",
    "    n=str(n)\n",
    "    length=len(n)\n",
    "    sumval=0\n",
    "    for i in range(length):\n",
    "        sumval=sumval+int(n[i])\n",
    "\n",
    "    sumval=str(sumval)\n",
    "    sum_rev=sumval[::-1]\n",
    "\n",
    "    #print(sum_rev,sumval)\n",
    "    if sumval==sum_rev:\n",
    "        return \"YES\"\n",
    "    else:\n",
    "        return \"NO\"\n",
    "\n"
   ]
  },
  {
   "cell_type": "code",
   "execution_count": 2,
   "metadata": {
    "collapsed": false
   },
   "outputs": [
    {
     "name": "stdout",
     "output_type": "stream",
     "text": [
      "1\n",
      "56\n",
      "11 11\n",
      "YES\n"
     ]
    }
   ],
   "source": [
    "iteration=int(input())\n",
    "\n",
    "for it in range(iteration):\n",
    "    n=int(input())\n",
    "    print(sum_palindrome(n))\n",
    "    "
   ]
  },
  {
   "cell_type": "code",
   "execution_count": null,
   "metadata": {
    "collapsed": true
   },
   "outputs": [],
   "source": []
  }
 ],
 "metadata": {
  "kernelspec": {
   "display_name": "Python [Anaconda3]",
   "language": "python",
   "name": "Python [Anaconda3]"
  },
  "language_info": {
   "codemirror_mode": {
    "name": "ipython",
    "version": 3
   },
   "file_extension": ".py",
   "mimetype": "text/x-python",
   "name": "python",
   "nbconvert_exporter": "python",
   "pygments_lexer": "ipython3",
   "version": "3.5.2"
  }
 },
 "nbformat": 4,
 "nbformat_minor": 0
}
