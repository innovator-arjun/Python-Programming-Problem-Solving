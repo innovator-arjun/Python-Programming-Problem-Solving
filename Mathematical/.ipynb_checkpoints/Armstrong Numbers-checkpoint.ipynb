{
 "cells": [
  {
   "cell_type": "code",
   "execution_count": 51,
   "metadata": {
    "collapsed": false
   },
   "outputs": [],
   "source": [
    "def armstrong_number(n):\n",
    "    n=str(n)\n",
    "    length=len(n)\n",
    "    n=int(n)\n",
    "\n",
    "    sum_value=0\n",
    "    compare=n\n",
    "    rem=0\n",
    "    #print(length)\n",
    "    \n",
    "    for i in range(length):\n",
    "        rem=n%10\n",
    "        rem=int(rem)\n",
    "        sum_value+=rem**length\n",
    "        #print(rem,\" \",sum_value)\n",
    "        n=n/10\n",
    "\n",
    "\n",
    "    if(compare==sum_value):\n",
    "        return \"Yes\"\n",
    "    else:\n",
    "        return \"No\"\n",
    "    "
   ]
  },
  {
   "cell_type": "code",
   "execution_count": 52,
   "metadata": {
    "collapsed": false
   },
   "outputs": [
    {
     "name": "stdout",
     "output_type": "stream",
     "text": [
      "2\n",
      "1\n",
      "Yes\n",
      "371\n",
      "Yes\n"
     ]
    }
   ],
   "source": [
    "iteration=int(input())\n",
    "for it in range(iteration):\n",
    "    inp=int(input())\n",
    "    print(armstrong_number(inp))\n"
   ]
  },
  {
   "cell_type": "code",
   "execution_count": 50,
   "metadata": {
    "collapsed": true
   },
   "outputs": [],
   "source": [
    "#https://practice.geeksforgeeks.org/problems/armstrong-numbers/0"
   ]
  },
  {
   "cell_type": "code",
   "execution_count": null,
   "metadata": {
    "collapsed": true
   },
   "outputs": [],
   "source": []
  }
 ],
 "metadata": {
  "kernelspec": {
   "display_name": "Python [Anaconda3]",
   "language": "python",
   "name": "Python [Anaconda3]"
  },
  "language_info": {
   "codemirror_mode": {
    "name": "ipython",
    "version": 3
   },
   "file_extension": ".py",
   "mimetype": "text/x-python",
   "name": "python",
   "nbconvert_exporter": "python",
   "pygments_lexer": "ipython3",
   "version": "3.5.2"
  }
 },
 "nbformat": 4,
 "nbformat_minor": 0
}
