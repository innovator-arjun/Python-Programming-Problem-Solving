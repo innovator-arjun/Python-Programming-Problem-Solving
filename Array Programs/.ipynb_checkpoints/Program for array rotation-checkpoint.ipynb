{
 "cells": [
  {
   "cell_type": "markdown",
   "metadata": {},
   "source": [
    "# Program for array rotation"
   ]
  },
  {
   "cell_type": "code",
   "execution_count": 44,
   "metadata": {},
   "outputs": [],
   "source": [
    "def array_rotation(list_user_input,rotation,length):\n",
    "    rotated_list=[]\n",
    "    for i in range(rotation+1,length+1):\n",
    "        \n",
    "        rotated_list.append(i)\n",
    "        \n",
    "    for j in (1,rotation):\n",
    "        rotated_list.append(j)\n",
    "        \n",
    "    return rotated_list\n",
    "        \n",
    "    "
   ]
  },
  {
   "cell_type": "code",
   "execution_count": 45,
   "metadata": {},
   "outputs": [
    {
     "name": "stdout",
     "output_type": "stream",
     "text": [
      "[3, 4, 5, 6, 7, 1, 2]\n"
     ]
    }
   ],
   "source": [
    "list_user_input=[1, 2, 3, 4, 5, 6, 7]\n",
    "rotation=2\n",
    "length=len(list_user_input)\n",
    "\n",
    "print(array_rotation(list_user_input,rotation,length))"
   ]
  },
  {
   "cell_type": "code",
   "execution_count": 46,
   "metadata": {},
   "outputs": [],
   "source": [
    "#https://www.geeksforgeeks.org/python-program-for-program-for-array-rotation-2/"
   ]
  },
  {
   "cell_type": "code",
   "execution_count": null,
   "metadata": {},
   "outputs": [],
   "source": []
  }
 ],
 "metadata": {
  "kernelspec": {
   "display_name": "Python 3",
   "language": "python",
   "name": "python3"
  },
  "language_info": {
   "codemirror_mode": {
    "name": "ipython",
    "version": 3
   },
   "file_extension": ".py",
   "mimetype": "text/x-python",
   "name": "python",
   "nbconvert_exporter": "python",
   "pygments_lexer": "ipython3",
   "version": "3.6.4"
  }
 },
 "nbformat": 4,
 "nbformat_minor": 2
}
