{
 "cells": [
  {
   "cell_type": "code",
   "execution_count": 25,
   "metadata": {
    "collapsed": true
   },
   "outputs": [],
   "source": [
    "\n",
    "user_input='ABeeIghiObhkUul'"
   ]
  },
  {
   "cell_type": "code",
   "execution_count": 26,
   "metadata": {
    "collapsed": false
   },
   "outputs": [],
   "source": [
    "def contains_all_vowels(user_input):\n",
    "    user_input=user_input.lower()\n",
    "    #print(user_input)\n",
    "    a=0;e=0;i=0;o=0;u=0\n",
    "    for charac in user_input:\n",
    "        if charac=='a':\n",
    "            a+=1\n",
    "        if charac=='e':\n",
    "            e+=1\n",
    "        if charac=='i':\n",
    "            i+=1\n",
    "        if charac=='o':\n",
    "            o+=1\n",
    "        if charac=='u':\n",
    "            u+=1\n",
    "\n",
    "    if (a>=1 and e>=1 and i>=1 and o>=1 and u>=1):\n",
    "        print (\"Accepted\")\n",
    "    else:\n",
    "        print(\"Not Accepted\")"
   ]
  },
  {
   "cell_type": "code",
   "execution_count": 42,
   "metadata": {
    "collapsed": false
   },
   "outputs": [],
   "source": [
    "def best_approach(user_input):\n",
    "    user_input=user_input.lower()\n",
    "    vowels=set('aeiou')\n",
    "    s=set({})\n",
    "    for char in user_input:\n",
    "        if char in vowels:\n",
    "            s.add(char)\n",
    "    if len(s)==len(vowels):\n",
    "        print('Accepted')\n",
    "    else:\n",
    "        print('Not Accepted')\n"
   ]
  },
  {
   "cell_type": "code",
   "execution_count": 43,
   "metadata": {
    "collapsed": false
   },
   "outputs": [
    {
     "name": "stdout",
     "output_type": "stream",
     "text": [
      "Accepted\n"
     ]
    }
   ],
   "source": [
    "contains_all_vowels(user_input)"
   ]
  },
  {
   "cell_type": "code",
   "execution_count": 44,
   "metadata": {
    "collapsed": false
   },
   "outputs": [
    {
     "name": "stdout",
     "output_type": "stream",
     "text": [
      "Accepted\n"
     ]
    }
   ],
   "source": [
    "best_approach(user_input)"
   ]
  },
  {
   "cell_type": "code",
   "execution_count": 45,
   "metadata": {
    "collapsed": false
   },
   "outputs": [],
   "source": [
    "#https://www.geeksforgeeks.org/python-program-to-accept-the-strings-which-contains-all-vowels/"
   ]
  },
  {
   "cell_type": "code",
   "execution_count": null,
   "metadata": {
    "collapsed": true
   },
   "outputs": [],
   "source": []
  }
 ],
 "metadata": {
  "kernelspec": {
   "display_name": "Python [Anaconda3]",
   "language": "python",
   "name": "Python [Anaconda3]"
  },
  "language_info": {
   "codemirror_mode": {
    "name": "ipython",
    "version": 3
   },
   "file_extension": ".py",
   "mimetype": "text/x-python",
   "name": "python",
   "nbconvert_exporter": "python",
   "pygments_lexer": "ipython3",
   "version": "3.5.2"
  }
 },
 "nbformat": 4,
 "nbformat_minor": 0
}
