{
 "cells": [
  {
   "cell_type": "code",
   "execution_count": 63,
   "metadata": {
    "collapsed": true
   },
   "outputs": [],
   "source": [
    "user_input_A=\"Learning from Geeks for Geeks banana fruits mango\"\n",
    "user_input_B=\"Geeks for Geeks apple banana mango\""
   ]
  },
  {
   "cell_type": "code",
   "execution_count": 64,
   "metadata": {
    "collapsed": false
   },
   "outputs": [],
   "source": [
    "def uncommon_words_without_loop(user_input_A,user_input_B):\n",
    "    new_list1=[]\n",
    "    new_list2=[]\n",
    "\n",
    "    user_input_A=user_input_A.split() # To split the string\n",
    "    user_input_A=set(user_input_A)#Convert to set\n",
    "\n",
    "    user_input_B=user_input_B.split()\n",
    "    user_input_B=set(user_input_B)\n",
    "\n",
    "    new_list1= list(user_input_B.difference(user_input_A)) # find S1-S2\n",
    "    new_list2=list(user_input_A.difference(user_input_B))#find S2-S1\n",
    "    new_list1=new_list1+new_list2 #Concat\n",
    "    return new_list1"
   ]
  },
  {
   "cell_type": "code",
   "execution_count": 65,
   "metadata": {
    "collapsed": false
   },
   "outputs": [
    {
     "name": "stdout",
     "output_type": "stream",
     "text": [
      "['apple', 'from', 'Learning', 'fruits']\n"
     ]
    }
   ],
   "source": [
    "print(uncommon_words_without_loop(user_input_A,user_input_B))\n"
   ]
  },
  {
   "cell_type": "code",
   "execution_count": 66,
   "metadata": {
    "collapsed": false
   },
   "outputs": [],
   "source": [
    "#https://www.geeksforgeeks.org/python-program-to-find-uncommon-words-from-two-strings/"
   ]
  },
  {
   "cell_type": "code",
   "execution_count": null,
   "metadata": {
    "collapsed": false
   },
   "outputs": [],
   "source": []
  },
  {
   "cell_type": "code",
   "execution_count": null,
   "metadata": {
    "collapsed": false
   },
   "outputs": [],
   "source": []
  },
  {
   "cell_type": "code",
   "execution_count": null,
   "metadata": {
    "collapsed": true
   },
   "outputs": [],
   "source": []
  }
 ],
 "metadata": {
  "kernelspec": {
   "display_name": "Python [Anaconda3]",
   "language": "python",
   "name": "Python [Anaconda3]"
  },
  "language_info": {
   "codemirror_mode": {
    "name": "ipython",
    "version": 3
   },
   "file_extension": ".py",
   "mimetype": "text/x-python",
   "name": "python",
   "nbconvert_exporter": "python",
   "pygments_lexer": "ipython3",
   "version": "3.5.2"
  }
 },
 "nbformat": 4,
 "nbformat_minor": 0
}
