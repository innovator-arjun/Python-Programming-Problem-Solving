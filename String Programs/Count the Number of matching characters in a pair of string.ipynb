{
 "cells": [
  {
   "cell_type": "code",
   "execution_count": 13,
   "metadata": {
    "collapsed": true
   },
   "outputs": [],
   "source": [
    "str1 = 'abcdef'\n",
    "str2 = 'defghia'"
   ]
  },
  {
   "cell_type": "code",
   "execution_count": 15,
   "metadata": {
    "collapsed": false
   },
   "outputs": [],
   "source": [
    "def count_matching_characters(str1,str2):\n",
    "    str2=set(str2)\n",
    "\n",
    "    new_list=[]\n",
    "\n",
    "    for char in str1:\n",
    "        if char in str2:\n",
    "            new_list.append(char)\n",
    "\n",
    "    print(new_list)"
   ]
  },
  {
   "cell_type": "code",
   "execution_count": 28,
   "metadata": {
    "collapsed": true
   },
   "outputs": [],
   "source": [
    "def with_out_forloop(str1,str2):\n",
    "    str1=set(str1)\n",
    "    str2=set(str2)\n",
    "    matched_String=str1&str2\n",
    "\n",
    "    print(matched_String)"
   ]
  },
  {
   "cell_type": "code",
   "execution_count": 29,
   "metadata": {
    "collapsed": false
   },
   "outputs": [
    {
     "name": "stdout",
     "output_type": "stream",
     "text": [
      "['a', 'd', 'e', 'f']\n"
     ]
    }
   ],
   "source": [
    "count_matching_characters(str1,str2)"
   ]
  },
  {
   "cell_type": "code",
   "execution_count": 30,
   "metadata": {
    "collapsed": false
   },
   "outputs": [
    {
     "name": "stdout",
     "output_type": "stream",
     "text": [
      "{'a', 'd', 'f', 'e'}\n"
     ]
    }
   ],
   "source": [
    "with_out_forloop(str1,str2)"
   ]
  },
  {
   "cell_type": "code",
   "execution_count": 31,
   "metadata": {
    "collapsed": true
   },
   "outputs": [],
   "source": [
    "#https://www.geeksforgeeks.org/python-count-the-number-of-matching-characters-in-a-pair-of-string/"
   ]
  },
  {
   "cell_type": "code",
   "execution_count": null,
   "metadata": {
    "collapsed": true
   },
   "outputs": [],
   "source": []
  }
 ],
 "metadata": {
  "anaconda-cloud": {},
  "kernelspec": {
   "display_name": "Python [Anaconda3]",
   "language": "python",
   "name": "Python [Anaconda3]"
  },
  "language_info": {
   "codemirror_mode": {
    "name": "ipython",
    "version": 3
   },
   "file_extension": ".py",
   "mimetype": "text/x-python",
   "name": "python",
   "nbconvert_exporter": "python",
   "pygments_lexer": "ipython3",
   "version": "3.5.2"
  }
 },
 "nbformat": 4,
 "nbformat_minor": 0
}
