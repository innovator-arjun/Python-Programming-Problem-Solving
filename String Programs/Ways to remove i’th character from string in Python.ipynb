{
 "cells": [
  {
   "cell_type": "code",
   "execution_count": 14,
   "metadata": {
    "collapsed": false
   },
   "outputs": [],
   "source": [
    "def native_method(user_input,num):\n",
    "    removed_string=\"\"\n",
    "    for i in range(0,len(user_input)):\n",
    "        if num!=i:\n",
    "            removed_string+=user_input[i]\n",
    "    \n",
    "    return removed_string\n",
    "    "
   ]
  },
  {
   "cell_type": "code",
   "execution_count": 26,
   "metadata": {
    "collapsed": false
   },
   "outputs": [],
   "source": [
    "def slicing_method(user_input,num):\n",
    "    removd_string=user_input[0:num]+user_input[num+1:]\n",
    "    return removd_string"
   ]
  },
  {
   "cell_type": "code",
   "execution_count": 34,
   "metadata": {
    "collapsed": false
   },
   "outputs": [],
   "source": [
    "#try to use list_compreh, as it is more time efficient compared to for loop\n",
    "def list_comprehend(user_input,num):\n",
    "    removed_string=\"\".join([user_input[i] for i in range(len(user_input)) if i!=num ])\n",
    "    \n",
    "    return removed_string"
   ]
  },
  {
   "cell_type": "code",
   "execution_count": 36,
   "metadata": {
    "collapsed": false
   },
   "outputs": [
    {
     "name": "stdout",
     "output_type": "stream",
     "text": [
      "Arjn\n",
      "Arjn\n",
      "Arjn\n"
     ]
    }
   ],
   "source": [
    "user_input=\"Arjun\"\n",
    "num=3\n",
    "print(native_method(user_input,num))\n",
    "print(slicing_method(user_input,num))\n",
    "print(list_comprehend(user_input,num))"
   ]
  },
  {
   "cell_type": "code",
   "execution_count": 37,
   "metadata": {
    "collapsed": true
   },
   "outputs": [],
   "source": [
    "#https://www.geeksforgeeks.org/ways-to-remove-ith-character-from-string-in-python/"
   ]
  },
  {
   "cell_type": "code",
   "execution_count": null,
   "metadata": {
    "collapsed": true
   },
   "outputs": [],
   "source": []
  }
 ],
 "metadata": {
  "anaconda-cloud": {},
  "kernelspec": {
   "display_name": "Python [Anaconda3]",
   "language": "python",
   "name": "Python [Anaconda3]"
  },
  "language_info": {
   "codemirror_mode": {
    "name": "ipython",
    "version": 3
   },
   "file_extension": ".py",
   "mimetype": "text/x-python",
   "name": "python",
   "nbconvert_exporter": "python",
   "pygments_lexer": "ipython3",
   "version": "3.5.2"
  }
 },
 "nbformat": 4,
 "nbformat_minor": 0
}
