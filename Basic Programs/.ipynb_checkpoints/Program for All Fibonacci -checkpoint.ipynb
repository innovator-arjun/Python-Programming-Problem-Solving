{
 "cells": [
  {
   "cell_type": "markdown",
   "metadata": {},
   "source": [
    "# Program for n-th Fibonacci number"
   ]
  },
  {
   "cell_type": "code",
   "execution_count": 62,
   "metadata": {},
   "outputs": [],
   "source": [
    "#Use Dynamic Programming with Space Optimization\n",
    "def fibonacci(user_input):\n",
    "    a=0\n",
    "    b=1\n",
    "    if user_input==0:\n",
    "        return 0\n",
    "    elif user_input==1:\n",
    "        return 1\n",
    "    else:\n",
    "        for i in range(user_input-1):\n",
    "\n",
    "            c=a+b\n",
    "            a=b\n",
    "            b=c\n",
    "        return c\n",
    "    "
   ]
  },
  {
   "cell_type": "code",
   "execution_count": 28,
   "metadata": {},
   "outputs": [],
   "source": [
    "#Recursive function\n",
    "\n",
    "def recur_fibonacci(user_input):\n",
    "    if user_input<0:\n",
    "        print(\"Incorrect\")\n",
    "    elif user_input==1:\n",
    "        return 0\n",
    "    elif user_input==2:\n",
    "        return 1\n",
    "    else:\n",
    "        return recur_fibonacci(user_input-1)+recur_fibonacci(user_input-2)\n"
   ]
  },
  {
   "cell_type": "code",
   "execution_count": 63,
   "metadata": {},
   "outputs": [
    {
     "data": {
      "text/plain": [
       "55"
      ]
     },
     "execution_count": 63,
     "metadata": {},
     "output_type": "execute_result"
    }
   ],
   "source": [
    "fibonacci(10)"
   ]
  },
  {
   "cell_type": "code",
   "execution_count": 30,
   "metadata": {},
   "outputs": [
    {
     "data": {
      "text/plain": [
       "21"
      ]
     },
     "execution_count": 30,
     "metadata": {},
     "output_type": "execute_result"
    }
   ],
   "source": [
    "recur_fibonacci(9)"
   ]
  },
  {
   "cell_type": "code",
   "execution_count": 32,
   "metadata": {},
   "outputs": [],
   "source": [
    "#https://www.geeksforgeeks.org/python-program-for-n-th-fibonacci-number/"
   ]
  },
  {
   "cell_type": "code",
   "execution_count": 33,
   "metadata": {},
   "outputs": [],
   "source": [
    "#How to check if a given number is Fibonacci number?"
   ]
  },
  {
   "cell_type": "code",
   "execution_count": 56,
   "metadata": {},
   "outputs": [],
   "source": [
    "def check_number_fib(user_input):\n",
    "    a=0\n",
    "    b=1\n",
    "    if user_input==0 or user_input==1:\n",
    "        return \"true\"\n",
    "    else:\n",
    "        for i in range(user_input-1):\n",
    "            #print(\"ui\",user_input)\n",
    "            c=a+b\n",
    "            a=b\n",
    "            b=c\n",
    "            #print(c)\n",
    "            if c==user_input:\n",
    "                return \"true\"\n",
    "                break\n",
    "            elif c>user_input:\n",
    "                break\n",
    "            else:\n",
    "                continue\n",
    "        return \"false\"\n",
    "           \n",
    "        \n",
    "        "
   ]
  },
  {
   "cell_type": "code",
   "execution_count": 59,
   "metadata": {},
   "outputs": [
    {
     "name": "stdout",
     "output_type": "stream",
     "text": [
      "true\n"
     ]
    }
   ],
   "source": [
    "print(check_number_fib(34))"
   ]
  },
  {
   "cell_type": "code",
   "execution_count": null,
   "metadata": {},
   "outputs": [],
   "source": []
  }
 ],
 "metadata": {
  "kernelspec": {
   "display_name": "Python 3",
   "language": "python",
   "name": "python3"
  },
  "language_info": {
   "codemirror_mode": {
    "name": "ipython",
    "version": 3
   },
   "file_extension": ".py",
   "mimetype": "text/x-python",
   "name": "python",
   "nbconvert_exporter": "python",
   "pygments_lexer": "ipython3",
   "version": "3.6.4"
  }
 },
 "nbformat": 4,
 "nbformat_minor": 2
}
