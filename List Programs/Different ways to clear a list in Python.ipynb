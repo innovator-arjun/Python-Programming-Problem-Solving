{
 "cells": [
  {
   "cell_type": "code",
   "execution_count": 3,
   "metadata": {
    "collapsed": false
   },
   "outputs": [
    {
     "name": "stdout",
     "output_type": "stream",
     "text": [
      "List [1, 2, 3, 4, 5]\n",
      "clear function to clear list []\n",
      "assign null []\n",
      "[]\n"
     ]
    }
   ],
   "source": [
    "user_input=[1,2,3,4,5]\n",
    "print(\"List\",user_input)\n",
    "\n",
    "user_input.clear()\n",
    "\n",
    "print(\"clear function to clear list\",user_input)\n",
    "\n",
    "user_input=[1,2,3,4,5]\n",
    "user_input=[]\n",
    "print(\"assign null\",user_input)\n",
    "\n",
    "user_input=[1,2,3,4,5]\n",
    "del user_input[:]\n",
    "\n",
    "user_input=[1,2,3,4,5]\n",
    "user_input*=0\n",
    "\n",
    "print(user_input)\n"
   ]
  },
  {
   "cell_type": "code",
   "execution_count": 4,
   "metadata": {
    "collapsed": true
   },
   "outputs": [],
   "source": [
    "#https://www.geeksforgeeks.org/different-ways-to-clear-a-list-in-python/\n"
   ]
  },
  {
   "cell_type": "code",
   "execution_count": null,
   "metadata": {
    "collapsed": true
   },
   "outputs": [],
   "source": [
    "s"
   ]
  }
 ],
 "metadata": {
  "anaconda-cloud": {},
  "kernelspec": {
   "display_name": "Python [Anaconda3]",
   "language": "python",
   "name": "Python [Anaconda3]"
  },
  "language_info": {
   "codemirror_mode": {
    "name": "ipython",
    "version": 3
   },
   "file_extension": ".py",
   "mimetype": "text/x-python",
   "name": "python",
   "nbconvert_exporter": "python",
   "pygments_lexer": "ipython3",
   "version": "3.5.2"
  }
 },
 "nbformat": 4,
 "nbformat_minor": 0
}
