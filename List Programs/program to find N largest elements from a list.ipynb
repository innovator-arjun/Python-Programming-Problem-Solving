{
 "cells": [
  {
   "cell_type": "code",
   "execution_count": 10,
   "metadata": {
    "collapsed": true
   },
   "outputs": [],
   "source": [
    "def n_largest_element(user_input,num):\n",
    "    new_list=[]\n",
    "    temp=0\n",
    "    for i in range(0,num):\n",
    "        temp=max(user_input)#Taking the max element\n",
    "        user_input.remove(temp)#removing the max element\n",
    "        new_list.append(temp)#assigning to the new list\n",
    "        \n",
    "    return new_list\n",
    "        "
   ]
  },
  {
   "cell_type": "code",
   "execution_count": 11,
   "metadata": {
    "collapsed": false
   },
   "outputs": [
    {
     "name": "stdout",
     "output_type": "stream",
     "text": [
      "[96, 81, 52]\n"
     ]
    }
   ],
   "source": [
    "user_input= [81, 52, 45, 10, 3, 2, 96]\n",
    "num=3\n",
    "print(n_largest_element(user_input,num))"
   ]
  },
  {
   "cell_type": "code",
   "execution_count": 9,
   "metadata": {
    "collapsed": false
   },
   "outputs": [],
   "source": [
    "#https://www.geeksforgeeks.org/python-program-to-find-n-largest-elements-from-a-list/"
   ]
  },
  {
   "cell_type": "code",
   "execution_count": null,
   "metadata": {
    "collapsed": true
   },
   "outputs": [],
   "source": []
  }
 ],
 "metadata": {
  "kernelspec": {
   "display_name": "Python [Anaconda3]",
   "language": "python",
   "name": "Python [Anaconda3]"
  },
  "language_info": {
   "codemirror_mode": {
    "name": "ipython",
    "version": 3
   },
   "file_extension": ".py",
   "mimetype": "text/x-python",
   "name": "python",
   "nbconvert_exporter": "python",
   "pygments_lexer": "ipython3",
   "version": "3.5.2"
  }
 },
 "nbformat": 4,
 "nbformat_minor": 0
}
